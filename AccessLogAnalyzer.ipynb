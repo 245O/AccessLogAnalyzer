{
  "nbformat": 4,
  "nbformat_minor": 0,
  "metadata": {
    "colab": {
      "name": "AccessLogAnalyzer.ipynb",
      "provenance": [],
      "collapsed_sections": [
        "do3HqxsYCvth"
      ],
      "include_colab_link": true
    },
    "kernelspec": {
      "name": "python3",
      "display_name": "Python 3"
    },
    "accelerator": "GPU"
  },
  "cells": [
    {
      "cell_type": "markdown",
      "metadata": {
        "id": "view-in-github",
        "colab_type": "text"
      },
      "source": [
        "<a href=\"https://colab.research.google.com/github/KoukiNishihara/AccessLogAnalyzer/blob/master/AccessLogAnalyzer.ipynb\" target=\"_parent\"><img src=\"https://colab.research.google.com/assets/colab-badge.svg\" alt=\"Open In Colab\"/></a>"
      ]
    },
    {
      "cell_type": "markdown",
      "metadata": {
        "id": "ISY5bwOWCntD",
        "colab_type": "text"
      },
      "source": [
        "# git clone していない場合の実行\n",
        "\n",
        "\n",
        "\n"
      ]
    },
    {
      "cell_type": "code",
      "metadata": {
        "id": "hmacg102a8eU",
        "colab_type": "code",
        "outputId": "d5aecdb6-46fb-4304-d206-5cec283e8304",
        "colab": {
          "base_uri": "https://localhost:8080/",
          "height": 34
        }
      },
      "source": [
        "!git clone https://github.com/KoukiNishihara/AccessLogAnalyzer.git"
      ],
      "execution_count": 3,
      "outputs": [
        {
          "output_type": "stream",
          "text": [
            "fatal: destination path 'AccessLogAnalyzer' already exists and is not an empty directory.\n"
          ],
          "name": "stdout"
        }
      ]
    },
    {
      "cell_type": "code",
      "metadata": {
        "id": "pj0KzoRFboXC",
        "colab_type": "code",
        "outputId": "ef5e7fd0-bf49-43c6-bfc1-92a9773e28dc",
        "colab": {
          "base_uri": "https://localhost:8080/",
          "height": 34
        }
      },
      "source": [
        "%cd AccessLogAnalyzer/"
      ],
      "execution_count": 4,
      "outputs": [
        {
          "output_type": "stream",
          "text": [
            "/content/gdrive/My Drive/就活/fixpoint/AccessLogAnalyzer\n"
          ],
          "name": "stdout"
        }
      ]
    },
    {
      "cell_type": "markdown",
      "metadata": {
        "id": "wgMkTF_fAxxk",
        "colab_type": "text"
      },
      "source": [
        "\n",
        "\n",
        "# git clone 済みの場合の実行\n",
        "\n",
        "\n"
      ]
    },
    {
      "cell_type": "code",
      "metadata": {
        "id": "RB5lsyDsG9ky",
        "colab_type": "code",
        "outputId": "8062e465-36d3-485d-ed75-72433f96eb15",
        "colab": {
          "base_uri": "https://localhost:8080/",
          "height": 85
        }
      },
      "source": [
        "!pip3 install apache-log-parser"
      ],
      "execution_count": 5,
      "outputs": [
        {
          "output_type": "stream",
          "text": [
            "Requirement already satisfied: apache-log-parser in /usr/local/lib/python3.6/dist-packages (1.7.0)\n",
            "Requirement already satisfied: user-agents in /usr/local/lib/python3.6/dist-packages (from apache-log-parser) (2.0)\n",
            "Requirement already satisfied: six in /usr/local/lib/python3.6/dist-packages (from apache-log-parser) (1.12.0)\n",
            "Requirement already satisfied: ua-parser>=0.8.0 in /usr/local/lib/python3.6/dist-packages (from user-agents->apache-log-parser) (0.8.0)\n"
          ],
          "name": "stdout"
        }
      ]
    },
    {
      "cell_type": "code",
      "metadata": {
        "id": "R3iZNUHLaMlR",
        "colab_type": "code",
        "colab": {}
      },
      "source": [
        "import datetime\n",
        "import apache_log_parser"
      ],
      "execution_count": 0,
      "outputs": []
    },
    {
      "cell_type": "code",
      "metadata": {
        "id": "drinOVTuKNGQ",
        "colab_type": "code",
        "colab": {}
      },
      "source": [
        "#ファイル読み込み\n",
        "def FileRead(filenames=['access_log'],host_dict={},time_list=[],time_range=[]):\n",
        "    file_num=0\n",
        "    if(len(time_range)==0 or len(time_range)==2):\n",
        "\n",
        "        if(len(time_range)==2):\n",
        "            start=time_range[0]\n",
        "            end=time_range[1]\n",
        "            # start=datetime.datetime.strptime(time_range[0], \"%Y/%m/%d\")\n",
        "            # end=datetime.datetime.strptime(time_range[1], \"%Y/%m/%d\")\n",
        "            flag=True\n",
        "\n",
        "        for name in filenames:\n",
        "            file_num+=1\n",
        "\n",
        "            with open(name,'r') as fh:\n",
        "                line =fh.readline()\n",
        "\n",
        "                while line:\n",
        "                    log_line_data = line_parser(line)\n",
        "                    date=log_line_data[\"time_received_datetimeobj\"].strftime(\"%Y/%m/%d\")\n",
        "                    if((len(time_range)==0) or (start<=date and end>=date)):\n",
        "                        CountHost(log_line_data,host_dict)\n",
        "                        CountPerHour(log_line_data,time_list)\n",
        "                    line =fh.readline()\n",
        "    return file_num"
      ],
      "execution_count": 0,
      "outputs": []
    },
    {
      "cell_type": "code",
      "metadata": {
        "id": "q0nJXpORgEsk",
        "colab_type": "code",
        "colab": {}
      },
      "source": [
        "#　hostのアクセス数をカウント\n",
        "def CountHost(log_line_data,host_dict):\n",
        "\n",
        "    host_name=log_line_data[\"remote_host\"]\n",
        "\n",
        "    if host_name not in host_dict.keys():\n",
        "        i=1\n",
        "        update_data = {host_name:i}\n",
        "        host_dict.update(update_data)\n",
        "\n",
        "    else:\n",
        "        host_dict[host_name]+=1\n",
        "\n",
        "    return host_dict"
      ],
      "execution_count": 0,
      "outputs": []
    },
    {
      "cell_type": "code",
      "metadata": {
        "id": "JLDTd0OOhZKm",
        "colab_type": "code",
        "colab": {}
      },
      "source": [
        "# 単位時間あたりのカウント\n",
        "def CountPerHour(log_line_data,list):\n",
        "\n",
        "    time_log=log_line_data['time_received_datetimeobj'].hour\n",
        "    time_list[time_log]+=1\n",
        "\n",
        "    return host_dict"
      ],
      "execution_count": 0,
      "outputs": []
    },
    {
      "cell_type": "markdown",
      "metadata": {
        "id": "vVNfDXyiC4qb",
        "colab_type": "text"
      },
      "source": [
        "* メインプログラム\n"
      ]
    },
    {
      "cell_type": "code",
      "metadata": {
        "id": "tbxOWfiJLxYC",
        "colab_type": "code",
        "outputId": "4564cfa3-e20e-4bc0-9178-3bda63c127d3",
        "colab": {
          "base_uri": "https://localhost:8080/",
          "height": 153
        }
      },
      "source": [
        "filename=['access_log']\n",
        "host_dict={}\n",
        "time_list=[]\n",
        "\n",
        "time_range=input('ログを収集する期間を指定してください.指定がない場合はEnterをおしてください\\n例）2000/11/06 2017/11/07\\n').split()\n",
        "\n",
        "for i in range(0,24):\n",
        "     time_list.append(0)\n",
        "\n",
        "line_parser = apache_log_parser.make_parser(\"%h %l %u %t \\\"%r\\\" %>s %b \\\"%{Referer}i\\\" \\\"%{User-Agent}i\\\"\")\n",
        "file_num=FileRead(filename,host_dict,time_list,time_range)\n",
        "print()\n",
        "\n",
        "# while filename:\n",
        "filename=input('\"access_log\"以外に解析したいファイルがあればファイル名を入力してください．Enterを押すとプログラムが終了します.\\n例）ファイル名\\n例）ファイル名1　ファイル名2　・・・　ファイル名n\\n').split()\n",
        "\n",
        "file_num+=FileRead(filename,host_dict,time_list,time_range)"
      ],
      "execution_count": 13,
      "outputs": [
        {
          "output_type": "stream",
          "text": [
            "ログを収集する期間を指定してください.指定がない場合はEnterをおしてください\n",
            "例）2000/11/06 2017/11/07\n",
            "2000/11/06 2017/11/07\n",
            "\n",
            "\"access_log\"以外に解析したいファイルがあればファイル名を入力してください．Enterを押すとプログラムが終了します.\n",
            "例）ファイル名\n",
            "例）ファイル名1　ファイル名2　・・・　ファイル名n\n",
            "other_log\n"
          ],
          "name": "stdout"
        }
      ]
    },
    {
      "cell_type": "markdown",
      "metadata": {
        "id": "wLGHOsb6DA8Y",
        "colab_type": "text"
      },
      "source": [
        "* 出力"
      ]
    },
    {
      "cell_type": "code",
      "metadata": {
        "id": "1Gl6P7EJyTSR",
        "colab_type": "code",
        "colab": {
          "base_uri": "https://localhost:8080/",
          "height": 544
        },
        "outputId": "f4039832-6955-4529-e212-06f52ef9d175"
      },
      "source": [
        "print(\"解析したファイルは\",file_num,\"個です\")\n",
        "\n",
        "if(len(host_dict)==0):\n",
        "    print(\"アクセスはありませんでした\")\n",
        "else :\n",
        "    if(len(time_range)==2):\n",
        "        print(\"解析期間は\",time_range[0],\"から\",time_range[1],\"です.\")\n",
        "    elif(len(time_range)==0):\n",
        "            print(\"解析期間は全期間です.\")\n",
        "\n",
        "print()\n",
        "for k,v in sorted(host_dict.items(),key=lambda x:x[1],reverse=True):\n",
        "    print(\"host:\",k,\"count:\",v)\n",
        "print()\n",
        "\n",
        "i=0\n",
        "for n in time_list:\n",
        "    print(\"hour:\",i,\"cout:\",n)\n",
        "    i+=1"
      ],
      "execution_count": 14,
      "outputs": [
        {
          "output_type": "stream",
          "text": [
            "解析したファイルは 2 個です\n",
            "解析期間は 2000/11/06 から 2017/11/07 です.\n",
            "\n",
            "host: 10.2.3.4 count: 3\n",
            "host: 10.2.3.5 count: 1\n",
            "host: 10.2.3.6 count: 1\n",
            "\n",
            "hour: 0 cout: 2\n",
            "hour: 1 cout: 0\n",
            "hour: 2 cout: 0\n",
            "hour: 3 cout: 1\n",
            "hour: 4 cout: 0\n",
            "hour: 5 cout: 0\n",
            "hour: 6 cout: 0\n",
            "hour: 7 cout: 0\n",
            "hour: 8 cout: 0\n",
            "hour: 9 cout: 0\n",
            "hour: 10 cout: 1\n",
            "hour: 11 cout: 0\n",
            "hour: 12 cout: 0\n",
            "hour: 13 cout: 0\n",
            "hour: 14 cout: 0\n",
            "hour: 15 cout: 0\n",
            "hour: 16 cout: 0\n",
            "hour: 17 cout: 0\n",
            "hour: 18 cout: 0\n",
            "hour: 19 cout: 0\n",
            "hour: 20 cout: 1\n",
            "hour: 21 cout: 0\n",
            "hour: 22 cout: 0\n",
            "hour: 23 cout: 0\n"
          ],
          "name": "stdout"
        }
      ]
    },
    {
      "cell_type": "markdown",
      "metadata": {
        "id": "PoMbfXncDLZi",
        "colab_type": "text"
      },
      "source": [
        "このプログラムはread()やrandlines()を用いず，randline()を用いてテキストの読み込みを行っている．read()やrandlines()はテキストファイルを丸ごと読み込むのに対し，randline()は1行づつ読み取っている．これにより，変数に格納する文字列を減らし，メモリの使用量を減らしている．"
      ]
    }
  ]
}